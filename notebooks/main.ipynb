{
 "cells": [
  {
   "cell_type": "code",
   "execution_count": 5,
   "metadata": {},
   "outputs": [
    {
     "name": "stdout",
     "output_type": "stream",
     "text": [
      "c:\\Users\\pc\\Desktop\\KAIM_Week_3\\Project_Week_3\\notebooks\n",
      "c:\\Users\\pc\\Desktop\\KAIM_Week_3\\Project_Week_3\n"
     ]
    }
   ],
   "source": [
    "# import libraries\n",
    "import os,sys\n",
    "\n",
    "# Get \n",
    "current_dir=os.getcwd()\n",
    "print(current_dir)\n",
    "\n",
    "#Get the parent directory\n",
    "parent_dir=os.path.dirname(current_dir)\n",
    "print(parent_dir)\n",
    "\n",
    "#Insert the path to the parent directory\n",
    "sys.path.insert(0,parent_dir)"
   ]
  },
  {
   "cell_type": "code",
   "execution_count": null,
   "metadata": {},
   "outputs": [
    {
     "ename": "ModuleNotFoundError",
     "evalue": "No module named 'pandas'",
     "output_type": "error",
     "traceback": [
      "\u001b[1;31m---------------------------------------------------------------------------\u001b[0m",
      "\u001b[1;31mModuleNotFoundError\u001b[0m                       Traceback (most recent call last)",
      "Cell \u001b[1;32mIn[15], line 2\u001b[0m\n\u001b[0;32m      1\u001b[0m \u001b[38;5;66;03m# import functions/class\u001b[39;00m\n\u001b[1;32m----> 2\u001b[0m \u001b[38;5;28;01mfrom\u001b[39;00m \u001b[38;5;21;01mscripts\u001b[39;00m\u001b[38;5;21;01m.\u001b[39;00m\u001b[38;5;21;01mload_data\u001b[39;00m \u001b[38;5;28;01mimport\u001b[39;00m read_csv_file\n\u001b[0;32m      3\u001b[0m \u001b[38;5;28;01mfrom\u001b[39;00m \u001b[38;5;21;01mscripts\u001b[39;00m\u001b[38;5;21;01m.\u001b[39;00m\u001b[38;5;21;01meda\u001b[39;00m \u001b[38;5;28;01mimport\u001b[39;00m calculate_variability,check_missing_values,compare_changes\n\u001b[0;32m      4\u001b[0m \u001b[38;5;28;01mfrom\u001b[39;00m \u001b[38;5;21;01mscripts\u001b[39;00m\u001b[38;5;21;01m.\u001b[39;00m\u001b[38;5;21;01mvisualization\u001b[39;00m \u001b[38;5;28;01mimport\u001b[39;00m plot_histograms, plot_bar_charts\n",
      "File \u001b[1;32mc:\\Users\\pc\\Desktop\\KAIM_Week_3\\Project_Week_3\\scripts\\load_data.py:1\u001b[0m\n\u001b[1;32m----> 1\u001b[0m \u001b[38;5;28;01mimport\u001b[39;00m \u001b[38;5;21;01mpandas\u001b[39;00m \u001b[38;5;28;01mas\u001b[39;00m \u001b[38;5;21;01mpd\u001b[39;00m\n\u001b[0;32m      3\u001b[0m \u001b[38;5;28;01mdef\u001b[39;00m \u001b[38;5;21mread_csv_file\u001b[39m(file_path):\n\u001b[0;32m      4\u001b[0m     \u001b[38;5;66;03m# Load a CSV file\u001b[39;00m\n\u001b[0;32m      5\u001b[0m     \u001b[38;5;28;01mtry\u001b[39;00m:\n",
      "\u001b[1;31mModuleNotFoundError\u001b[0m: No module named 'pandas'"
     ]
    }
   ],
   "source": [
    "#import libraries\n",
    "import pandas as pd\n",
    "import numpy as np\n",
    "\n",
    "# import functions/class\n",
    "from scripts.load_data import read_csv_file\n",
    "from scripts.eda import calculate_variability,check_missing_values,compare_changes\n",
    "from scripts.visualization import plot_histograms, plot_bar_charts\n",
    "from scripts.visualization import plot_correlation_matrix,plot_relationships,detect_outliers\n",
    "\n",
    "\n"
   ]
  },
  {
   "cell_type": "code",
   "execution_count": 13,
   "metadata": {},
   "outputs": [
    {
     "ename": "NameError",
     "evalue": "name 'read_csv_file' is not defined",
     "output_type": "error",
     "traceback": [
      "\u001b[1;31m---------------------------------------------------------------------------\u001b[0m",
      "\u001b[1;31mNameError\u001b[0m                                 Traceback (most recent call last)",
      "Cell \u001b[1;32mIn[13], line 4\u001b[0m\n\u001b[0;32m      2\u001b[0m os\u001b[38;5;241m.\u001b[39mchdir(\u001b[38;5;124m'\u001b[39m\u001b[38;5;124m../scripts\u001b[39m\u001b[38;5;124m'\u001b[39m)\n\u001b[0;32m      3\u001b[0m file_path\u001b[38;5;241m=\u001b[39m\u001b[38;5;124m'\u001b[39m\u001b[38;5;124m../Data/MachineLearningRating_v3.csv\u001b[39m\u001b[38;5;124m'\u001b[39m\n\u001b[1;32m----> 4\u001b[0m data\u001b[38;5;241m=\u001b[39m\u001b[43mread_csv_file\u001b[49m(file_path)\n\u001b[0;32m      5\u001b[0m data\u001b[38;5;241m.\u001b[39mhead(\u001b[38;5;241m4\u001b[39m)\n",
      "\u001b[1;31mNameError\u001b[0m: name 'read_csv_file' is not defined"
     ]
    }
   ],
   "source": [
    "# Load the dataset\n",
    "os.chdir('../scripts')\n",
    "file_path='../Data/MachineLearningRating_v3.csv'\n",
    "data=read_csv_file(file_path)\n",
    "data.head(4)"
   ]
  },
  {
   "cell_type": "markdown",
   "metadata": {},
   "source": [
    "# Data Summarization"
   ]
  },
  {
   "cell_type": "markdown",
   "metadata": {},
   "source": [
    "Descriptive Statistics: Calculate the variability for numerical features such as TotalPremium, TotalClaim, etc."
   ]
  },
  {
   "cell_type": "code",
   "execution_count": 62,
   "metadata": {},
   "outputs": [
    {
     "name": "stdout",
     "output_type": "stream",
     "text": [
      "                  variance      std_dev  coeff_variation\n",
      "TotalPremium  5.303096e+04   230.284513         3.719936\n",
      "TotalClaims   5.683812e+06  2384.074695        36.756567\n"
     ]
    }
   ],
   "source": [
    "# Specify columns to analyze\n",
    "numerical_columns = data.select_dtypes(include=np.number).columns.tolist()\n",
    "\n",
    "variability_results = calculate_variability(data, numerical_columns)\n",
    "print(variability_results) "
   ]
  },
  {
   "cell_type": "markdown",
   "metadata": {},
   "source": [
    "Data Structure: \n",
    "Review the dtype of each column to confirm if categorical variables, dates, etc. are properly formatted."
   ]
  },
  {
   "cell_type": "code",
   "execution_count": 102,
   "metadata": {},
   "outputs": [
    {
     "data": {
      "text/plain": [
       "UnderwrittenCoverID           int64\n",
       "PolicyID                      int64\n",
       "TransactionMonth             object\n",
       "IsVATRegistered                bool\n",
       "Citizenship                  object\n",
       "LegalType                    object\n",
       "Title                        object\n",
       "Language                     object\n",
       "Bank                         object\n",
       "AccountType                  object\n",
       "MaritalStatus                object\n",
       "Gender                       object\n",
       "Country                      object\n",
       "Province                     object\n",
       "PostalCode                    int64\n",
       "MainCrestaZone               object\n",
       "SubCrestaZone                object\n",
       "ItemType                     object\n",
       "mmcode                      float64\n",
       "VehicleType                  object\n",
       "RegistrationYear              int64\n",
       "make                         object\n",
       "Model                        object\n",
       "Cylinders                   float64\n",
       "cubiccapacity               float64\n",
       "kilowatts                   float64\n",
       "bodytype                     object\n",
       "NumberOfDoors               float64\n",
       "VehicleIntroDate             object\n",
       "CustomValueEstimate         float64\n",
       "AlarmImmobiliser             object\n",
       "TrackingDevice               object\n",
       "CapitalOutstanding           object\n",
       "NewVehicle                   object\n",
       "WrittenOff                   object\n",
       "Rebuilt                      object\n",
       "Converted                    object\n",
       "CrossBorder                  object\n",
       "NumberOfVehiclesInFleet     float64\n",
       "SumInsured                  float64\n",
       "TermFrequency                object\n",
       "CalculatedPremiumPerTerm    float64\n",
       "ExcessSelected               object\n",
       "CoverCategory                object\n",
       "CoverType                    object\n",
       "CoverGroup                   object\n",
       "Section                      object\n",
       "Product                      object\n",
       "StatutoryClass               object\n",
       "StatutoryRiskType            object\n",
       "TotalPremium                float64\n",
       "TotalClaims                 float64\n",
       "dtype: object"
      ]
     },
     "execution_count": 102,
     "metadata": {},
     "output_type": "execute_result"
    }
   ],
   "source": [
    "data.dtypes"
   ]
  },
  {
   "cell_type": "markdown",
   "metadata": {},
   "source": [
    "# Data Quality Assessment:"
   ]
  },
  {
   "cell_type": "markdown",
   "metadata": {},
   "source": [
    "Check for missing values."
   ]
  },
  {
   "cell_type": "code",
   "execution_count": 130,
   "metadata": {},
   "outputs": [
    {
     "name": "stdout",
     "output_type": "stream",
     "text": [
      "                          Missing Count  Missing Percentage\n",
      "UnderwrittenCoverID                   0            0.000000\n",
      "PolicyID                              0            0.000000\n",
      "TransactionMonth                      0            0.000000\n",
      "IsVATRegistered                       0            0.000000\n",
      "Citizenship                           0            0.000000\n",
      "LegalType                             0            0.000000\n",
      "Title                                 0            0.000000\n",
      "Language                              0            0.000000\n",
      "Bank                             145961           14.594670\n",
      "AccountType                       40232            4.022806\n",
      "MaritalStatus                      8259            0.825819\n",
      "Gender                             9536            0.953507\n",
      "Country                               0            0.000000\n",
      "Province                              0            0.000000\n",
      "PostalCode                            0            0.000000\n",
      "MainCrestaZone                        0            0.000000\n",
      "SubCrestaZone                         0            0.000000\n",
      "ItemType                              0            0.000000\n",
      "mmcode                              552            0.055195\n",
      "VehicleType                         552            0.055195\n",
      "RegistrationYear                      0            0.000000\n",
      "make                                552            0.055195\n",
      "Model                               552            0.055195\n",
      "Cylinders                           552            0.055195\n",
      "cubiccapacity                       552            0.055195\n",
      "kilowatts                           552            0.055195\n",
      "bodytype                            552            0.055195\n",
      "NumberOfDoors                       552            0.055195\n",
      "VehicleIntroDate                    552            0.055195\n",
      "CustomValueEstimate              779642           77.956560\n",
      "AlarmImmobiliser                      0            0.000000\n",
      "TrackingDevice                        0            0.000000\n",
      "CapitalOutstanding                    2            0.000200\n",
      "NewVehicle                       153295           15.327998\n",
      "WrittenOff                       641901           64.183810\n",
      "Rebuilt                          641901           64.183810\n",
      "Converted                        641901           64.183810\n",
      "CrossBorder                      999400           99.930207\n",
      "NumberOfVehiclesInFleet         1000098          100.000000\n",
      "SumInsured                            0            0.000000\n",
      "TermFrequency                         0            0.000000\n",
      "CalculatedPremiumPerTerm              0            0.000000\n",
      "ExcessSelected                        0            0.000000\n",
      "CoverCategory                         0            0.000000\n",
      "CoverType                             0            0.000000\n",
      "CoverGroup                            0            0.000000\n",
      "Section                               0            0.000000\n",
      "Product                               0            0.000000\n",
      "StatutoryClass                        0            0.000000\n",
      "StatutoryRiskType                     0            0.000000\n",
      "TotalPremium                          0            0.000000\n",
      "TotalClaims                           0            0.000000\n"
     ]
    }
   ],
   "source": [
    "missing_value = check_missing_values(data)\n",
    "print(missing_value)"
   ]
  },
  {
   "cell_type": "markdown",
   "metadata": {},
   "source": [
    "# Univariate Analysis\n",
    "Plot histograms for numerical columns and bar charts for categorical columns to understand distributions.."
   ]
  },
  {
   "cell_type": "code",
   "execution_count": 99,
   "metadata": {},
   "outputs": [
    {
     "name": "stdout",
     "output_type": "stream",
     "text": [
      "['UnderwrittenCoverID', 'PolicyID', 'PostalCode', 'mmcode', 'RegistrationYear', 'Cylinders', 'cubiccapacity', 'kilowatts', 'NumberOfDoors', 'CustomValueEstimate', 'NumberOfVehiclesInFleet', 'SumInsured', 'CalculatedPremiumPerTerm', 'TotalPremium', 'TotalClaims']\n"
     ]
    }
   ],
   "source": [
    "numerical=data.select_dtypes(include=np.number).columns.tolist()\n",
    "print(numerical)"
   ]
  },
  {
   "cell_type": "code",
   "execution_count": 125,
   "metadata": {},
   "outputs": [
    {
     "data": {
      "image/png": "[encoded data removed]",
      "text/plain": [
       "<Figure size 1000x500 with 1 Axes>"
      ]
     },
     "metadata": {},
     "output_type": "display_data"
    }
   ],
   "source": [
    "# Specify columns to analyze\n",
    "numerical_columns = ['TotalPremium']\n",
    "\n",
    "plot_histograms(data, numerical_columns)"
   ]
  },
  {
   "cell_type": "code",
   "execution_count": 94,
   "metadata": {},
   "outputs": [
    {
     "name": "stdout",
     "output_type": "stream",
     "text": [
      "Index(['TransactionMonth', 'Citizenship', 'LegalType', 'Title', 'Language',\n",
      "       'Bank', 'AccountType', 'MaritalStatus', 'Gender', 'Country', 'Province',\n",
      "       'MainCrestaZone', 'SubCrestaZone', 'ItemType', 'VehicleType', 'make',\n",
      "       'Model', 'bodytype', 'VehicleIntroDate', 'AlarmImmobiliser',\n",
      "       'TrackingDevice', 'CapitalOutstanding', 'NewVehicle', 'WrittenOff',\n",
      "       'Rebuilt', 'Converted', 'CrossBorder', 'TermFrequency',\n",
      "       'ExcessSelected', 'CoverCategory', 'CoverType', 'CoverGroup', 'Section',\n",
      "       'Product', 'StatutoryClass', 'StatutoryRiskType'],\n",
      "      dtype='object')\n"
     ]
    }
   ],
   "source": [
    "categorical_cols = data.select_dtypes(include=['object', 'category']).columns\n",
    "print (categorical_cols)"
   ]
  },
  {
   "cell_type": "code",
   "execution_count": 127,
   "metadata": {},
   "outputs": [
    {
     "data": {
      "image/png": "[encoded data removed]",
      "text/plain": [
       "<Figure size 1000x500 with 1 Axes>"
      ]
     },
     "metadata": {},
     "output_type": "display_data"
    }
   ],
   "source": [
    "# Specify columns to analyze\n",
    "categorical_columns = ['Province']\n",
    "\n",
    "plot_bar_charts(data, categorical_columns)"
   ]
  },
  {
   "cell_type": "markdown",
   "metadata": {},
   "source": [
    "# Bivariate or Multivariate Analysis:\n",
    "Explore relationships between the monthly changes TotalPremium and TotalClaims as a function of ZipCode, using scatter plots"
   ]
  },
  {
   "cell_type": "code",
   "execution_count": null,
   "metadata": {},
   "outputs": [],
   "source": [
    " # Plot relationships\n",
    "\n",
    "message = plot_relationships(data, 'TotalPremium', 'TotalClaims', 'PostalCode')\n",
    "print(message)"
   ]
  },
  {
   "cell_type": "markdown",
   "metadata": {},
   "source": [
    "Explore relationships between the monthly changes TotalPremium and TotalClaims as a function of ZipCode, using  correlation matrices."
   ]
  },
  {
   "cell_type": "code",
   "execution_count": null,
   "metadata": {},
   "outputs": [],
   "source": []
  },
  {
   "cell_type": "markdown",
   "metadata": {},
   "source": [
    "# Data Comparison\n",
    "Trends Over Geography: Compare the change in insurance cover type, premium, auto make, etc\n"
   ]
  },
  {
   "cell_type": "code",
   "execution_count": null,
   "metadata": {},
   "outputs": [],
   "source": [
    "# Ensure the Date column is datetime\n",
    "data['Date'] = pd.to_datetime(data['Date'])\n",
    "\n",
    " # Specify columns to compare\n",
    "columns_to_compare = ['InsuranceCoverType', 'Premium', 'AutoMake']\n",
    "\n",
    "    # Analyze changes\n",
    "result = compare_changes(data, id_col='PolicyID', time_col='Date', columns_to_compare=columns_to_compare)"
   ]
  },
  {
   "cell_type": "markdown",
   "metadata": {},
   "source": [
    "# Outlier Detection:\n",
    "Use box plots to detect outliers in numerical data\n"
   ]
  },
  {
   "cell_type": "code",
   "execution_count": 4,
   "metadata": {},
   "outputs": [
    {
     "data": {
      "image/png": "[encoded data removed]",
      "text/plain": [
       "<Figure size 800x600 with 1 Axes>"
      ]
     },
     "metadata": {},
     "output_type": "display_data"
    },
    {
     "data": {
      "image/png": "[encoded data removed]",
      "text/plain": [
       "<Figure size 800x600 with 1 Axes>"
      ]
     },
     "metadata": {},
     "output_type": "display_data"
    },
    {
     "name": "stdout",
     "output_type": "stream",
     "text": [
      "Outliers detected in TotalPremium:\n",
      "3          512.848070\n",
      "13         458.051613\n",
      "14         709.980000\n",
      "15         709.980000\n",
      "16         526.759355\n",
      "              ...    \n",
      "1000091    347.235175\n",
      "1000092    347.235175\n",
      "1000093    347.235175\n",
      "1000094    347.235175\n",
      "1000095    347.235175\n",
      "Name: TotalPremium, Length: 209042, dtype: float64\n",
      "Outliers detected in TotalClaims:\n",
      "203         2294.096491\n",
      "284         2040.473684\n",
      "1560       46492.211754\n",
      "1779       26516.859649\n",
      "1943        6140.350877\n",
      "              ...      \n",
      "998512      7996.535088\n",
      "998848     40011.859649\n",
      "999218    101812.517544\n",
      "999701    155317.578947\n",
      "999923     28903.850877\n",
      "Name: TotalClaims, Length: 2793, dtype: float64\n"
     ]
    }
   ],
   "source": [
    "# Detect outliers\n",
    "numerical_columns = ['TotalPremium', 'TotalClaims']\n",
    "outliers = detect_outliers(data, numerical_columns)\n",
    "\n",
    "for col, values in outliers.items():\n",
    "    print(f\"Outliers detected in {col}:\")\n",
    "    print(values)"
   ]
  }
 ],
 "metadata": {
  "kernelspec": {
   "display_name": "Python 3",
   "language": "python",
   "name": "python3"
  },
  "language_info": {
   "codemirror_mode": {
    "name": "ipython",
    "version": 3
   },
   "file_extension": ".py",
   "mimetype": "text/x-python",
   "name": "python",
   "nbconvert_exporter": "python",
   "pygments_lexer": "ipython3",
   "version": "3.11.5"
  }
 },
 "nbformat": 4,
 "nbformat_minor": 2
}
